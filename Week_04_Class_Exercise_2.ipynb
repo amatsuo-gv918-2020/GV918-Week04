{
  "nbformat": 4,
  "nbformat_minor": 0,
  "metadata": {
    "colab": {
      "name": "Week 04 Class - Exercise 2.ipynb",
      "provenance": [],
      "collapsed_sections": [],
      "toc_visible": true,
      "include_colab_link": true
    },
    "kernelspec": {
      "name": "python3",
      "display_name": "Python 3"
    }
  },
  "cells": [
    {
      "cell_type": "markdown",
      "metadata": {
        "id": "view-in-github",
        "colab_type": "text"
      },
      "source": [
        "<a href=\"https://colab.research.google.com/github/amatsuo-gv918-2020/GV918-Week04/blob/main/Week_04_Class_Exercise_2.ipynb\" target=\"_parent\"><img src=\"https://colab.research.google.com/assets/colab-badge.svg\" alt=\"Open In Colab\"/></a>"
      ]
    },
    {
      "cell_type": "markdown",
      "metadata": {
        "id": "zYZzWQ0GG1t1"
      },
      "source": [
        "# Description\n",
        "\n",
        "In this exercise, we will continue the analysis of UK Political Data, which I presented in the lecture. We have already conducted merging Election and Brexit referendum data. We will work with additional datasets, coming from: \n",
        "\n",
        "https://commonslibrary.parliament.uk/constituency-dashboard/\n",
        "\n",
        "In particular, we will use the following data:\n",
        "\n",
        "- Population\n",
        "- Unemployment\n",
        "- Housing price"
      ]
    },
    {
      "cell_type": "markdown",
      "metadata": {
        "id": "yDSMvqBtf1p8"
      },
      "source": [
        "# Clone a data repository\n",
        "\n",
        "As we will use the data for several weeks, I decided to create a separate repository for the data. We can clone the reposiotory to Colab working directory to start working on the data."
      ]
    },
    {
      "cell_type": "code",
      "metadata": {
        "id": "VPyuaghcgKI4",
        "outputId": "eba1ba41-cac6-44c0-decb-445dee85f44d",
        "colab": {
          "base_uri": "https://localhost:8080/",
          "height": 120
        }
      },
      "source": [
        "!git clone  https://github.com/University-of-Essex-Dept-of-Government/GV918-UK-politics-data"
      ],
      "execution_count": 1,
      "outputs": [
        {
          "output_type": "stream",
          "text": [
            "Cloning into 'GV918-UK-politics-data'...\n",
            "remote: Enumerating objects: 12, done.\u001b[K\n",
            "remote: Counting objects: 100% (12/12), done.\u001b[K\n",
            "remote: Compressing objects: 100% (11/11), done.\u001b[K\n",
            "remote: Total 12 (delta 0), reused 0 (delta 0), pack-reused 0\u001b[K\n",
            "Unpacking objects: 100% (12/12), done.\n"
          ],
          "name": "stdout"
        }
      ]
    },
    {
      "cell_type": "markdown",
      "metadata": {
        "id": "UxZZK0qlH2nA"
      },
      "source": [
        "## Rerun the code in the lecture"
      ]
    },
    {
      "cell_type": "code",
      "metadata": {
        "id": "SeMeWzYUpVZt",
        "outputId": "d6e1262f-1f83-475b-9850-c0f47af55253",
        "colab": {
          "base_uri": "https://localhost:8080/",
          "height": 34
        }
      },
      "source": [
        "from google.colab import drive\n",
        "drive.mount('/content/drive')"
      ],
      "execution_count": 2,
      "outputs": [
        {
          "output_type": "stream",
          "text": [
            "Mounted at /content/drive\n"
          ],
          "name": "stdout"
        }
      ]
    },
    {
      "cell_type": "code",
      "metadata": {
        "id": "BNnah5uCH2PQ"
      },
      "source": [
        "import pandas as pd\n",
        "import numpy as np\n"
      ],
      "execution_count": 3,
      "outputs": []
    },
    {
      "cell_type": "code",
      "metadata": {
        "id": "xK3OoYQjI5eB"
      },
      "source": [
        "\n",
        "df_elec = pd.read_excel(\"/content/GV918-UK-politics-data/Data/general-election-results-2019.xlsx\", sheet_name = 'voting-summary')\n",
        "\n",
        "df_brexit = pd.read_csv(\"/content/GV918-UK-politics-data/Data/brexit-vote.csv\")\n",
        "\n",
        "df_brexit.rename({'PCON11CD':'ons_id'}, axis = 1, inplace=True)\n",
        "\n",
        "\"\"\"## Select columns\"\"\"\n",
        "\n",
        "df_brexit.rename({'Figure to use':'leave_pct'}, axis = 1, inplace=True)\n",
        "\n",
        "df_brexit_sub = df_brexit[['ons_id', 'leave_pct']]\n",
        "\n",
        "df_elec['con_pct'] = df_elec['con'] / df_elec['valid_votes']\n",
        "df_elec['lab_pct'] = df_elec['lab'] / df_elec['valid_votes']\n",
        "\n",
        "df_elec.head()\n",
        "\n",
        "\"\"\"## Merge\"\"\"\n",
        "# use \"left\" merge\n",
        "\n",
        "df_merge = df_elec.merge(df_brexit_sub, how='left', on = \"ons_id\")\n"
      ],
      "execution_count": 4,
      "outputs": []
    },
    {
      "cell_type": "code",
      "metadata": {
        "id": "QGTom0iFqIol",
        "outputId": "9fb6d07b-a42d-4fde-f126-7a1c20cbb2d1",
        "colab": {
          "base_uri": "https://localhost:8080/",
          "height": 34
        }
      },
      "source": [
        "df_merge.shape"
      ],
      "execution_count": 5,
      "outputs": [
        {
          "output_type": "execute_result",
          "data": {
            "text/plain": [
              "(650, 42)"
            ]
          },
          "metadata": {
            "tags": []
          },
          "execution_count": 5
        }
      ]
    },
    {
      "cell_type": "markdown",
      "metadata": {
        "id": "hZ4584uuKTOo"
      },
      "source": [
        "# Unemployment\n",
        "\n",
        "What we want to get from this file is the unemployment rate (or rate of unemployment claims) in November 2019, right before the election. "
      ]
    },
    {
      "cell_type": "markdown",
      "metadata": {
        "id": "KHJSJPqIKWKd"
      },
      "source": [
        "## Read the file"
      ]
    },
    {
      "cell_type": "code",
      "metadata": {
        "id": "3LptEE8nKaod"
      },
      "source": [
        "df_unemp = pd.read_excel('/content/GV918-UK-politics-data/Data/Unemployment.xlsx', sheet_name = \"Data\")"
      ],
      "execution_count": 6,
      "outputs": []
    },
    {
      "cell_type": "code",
      "metadata": {
        "id": "Gp2IRrPgubSt",
        "outputId": "7a9a7b29-6219-4e73-da44-ea1650639ad5",
        "colab": {
          "base_uri": "https://localhost:8080/",
          "height": 256
        }
      },
      "source": [
        "df_unemp.head()"
      ],
      "execution_count": 7,
      "outputs": [
        {
          "output_type": "execute_result",
          "data": {
            "text/html": [
              "<div>\n",
              "<style scoped>\n",
              "    .dataframe tbody tr th:only-of-type {\n",
              "        vertical-align: middle;\n",
              "    }\n",
              "\n",
              "    .dataframe tbody tr th {\n",
              "        vertical-align: top;\n",
              "    }\n",
              "\n",
              "    .dataframe thead th {\n",
              "        text-align: right;\n",
              "    }\n",
              "</style>\n",
              "<table border=\"1\" class=\"dataframe\">\n",
              "  <thead>\n",
              "    <tr style=\"text-align: right;\">\n",
              "      <th></th>\n",
              "      <th>ONSConstID</th>\n",
              "      <th>ConstituencyName</th>\n",
              "      <th>RegionID</th>\n",
              "      <th>RegionName</th>\n",
              "      <th>CountryID</th>\n",
              "      <th>CountryName</th>\n",
              "      <th>DateThisUpdate</th>\n",
              "      <th>DateOfDataset</th>\n",
              "      <th>UnempConstNumber</th>\n",
              "      <th>UnempConstRate</th>\n",
              "      <th>UnempRegionNumber</th>\n",
              "      <th>UnempRegionRate</th>\n",
              "      <th>UnempCountryNumber</th>\n",
              "      <th>UnempCountryRate</th>\n",
              "      <th>Unnamed: 14</th>\n",
              "    </tr>\n",
              "  </thead>\n",
              "  <tbody>\n",
              "    <tr>\n",
              "      <th>0</th>\n",
              "      <td>E14000554</td>\n",
              "      <td>Berwick-upon-Tweed</td>\n",
              "      <td>E15000001</td>\n",
              "      <td>North East</td>\n",
              "      <td>K02000001</td>\n",
              "      <td>UK</td>\n",
              "      <td>2020-10-13</td>\n",
              "      <td>2010-05-01</td>\n",
              "      <td>1216</td>\n",
              "      <td>0.025744</td>\n",
              "      <td>80105</td>\n",
              "      <td>0.04769</td>\n",
              "      <td>1502155</td>\n",
              "      <td>0.036923</td>\n",
              "      <td>0</td>\n",
              "    </tr>\n",
              "    <tr>\n",
              "      <th>1</th>\n",
              "      <td>E14000569</td>\n",
              "      <td>Bishop Auckland</td>\n",
              "      <td>E15000001</td>\n",
              "      <td>North East</td>\n",
              "      <td>K02000001</td>\n",
              "      <td>UK</td>\n",
              "      <td>2020-10-13</td>\n",
              "      <td>2010-05-01</td>\n",
              "      <td>2361</td>\n",
              "      <td>0.042521</td>\n",
              "      <td>80105</td>\n",
              "      <td>0.04769</td>\n",
              "      <td>1502155</td>\n",
              "      <td>0.036923</td>\n",
              "      <td>0</td>\n",
              "    </tr>\n",
              "    <tr>\n",
              "      <th>2</th>\n",
              "      <td>E14000574</td>\n",
              "      <td>Blaydon</td>\n",
              "      <td>E15000001</td>\n",
              "      <td>North East</td>\n",
              "      <td>K02000001</td>\n",
              "      <td>UK</td>\n",
              "      <td>2020-10-13</td>\n",
              "      <td>2010-05-01</td>\n",
              "      <td>1909</td>\n",
              "      <td>0.034575</td>\n",
              "      <td>80105</td>\n",
              "      <td>0.04769</td>\n",
              "      <td>1502155</td>\n",
              "      <td>0.036923</td>\n",
              "      <td>0</td>\n",
              "    </tr>\n",
              "    <tr>\n",
              "      <th>3</th>\n",
              "      <td>E14000575</td>\n",
              "      <td>Blyth Valley</td>\n",
              "      <td>E15000001</td>\n",
              "      <td>North East</td>\n",
              "      <td>K02000001</td>\n",
              "      <td>UK</td>\n",
              "      <td>2020-10-13</td>\n",
              "      <td>2010-05-01</td>\n",
              "      <td>2248</td>\n",
              "      <td>0.042177</td>\n",
              "      <td>80105</td>\n",
              "      <td>0.04769</td>\n",
              "      <td>1502155</td>\n",
              "      <td>0.036923</td>\n",
              "      <td>0</td>\n",
              "    </tr>\n",
              "    <tr>\n",
              "      <th>4</th>\n",
              "      <td>E14000641</td>\n",
              "      <td>City of Durham</td>\n",
              "      <td>E15000001</td>\n",
              "      <td>North East</td>\n",
              "      <td>K02000001</td>\n",
              "      <td>UK</td>\n",
              "      <td>2020-10-13</td>\n",
              "      <td>2010-05-01</td>\n",
              "      <td>1590</td>\n",
              "      <td>0.024718</td>\n",
              "      <td>80105</td>\n",
              "      <td>0.04769</td>\n",
              "      <td>1502155</td>\n",
              "      <td>0.036923</td>\n",
              "      <td>0</td>\n",
              "    </tr>\n",
              "  </tbody>\n",
              "</table>\n",
              "</div>"
            ],
            "text/plain": [
              "  ONSConstID    ConstituencyName  ... UnempCountryRate Unnamed: 14\n",
              "0  E14000554  Berwick-upon-Tweed  ...         0.036923           0\n",
              "1  E14000569     Bishop Auckland  ...         0.036923           0\n",
              "2  E14000574             Blaydon  ...         0.036923           0\n",
              "3  E14000575        Blyth Valley  ...         0.036923           0\n",
              "4  E14000641      City of Durham  ...         0.036923           0\n",
              "\n",
              "[5 rows x 15 columns]"
            ]
          },
          "metadata": {
            "tags": []
          },
          "execution_count": 7
        }
      ]
    },
    {
      "cell_type": "code",
      "metadata": {
        "id": "BGsRRWdPuoxP",
        "outputId": "0aca024d-15be-4d71-bfaf-3fc5c9001b81",
        "colab": {
          "base_uri": "https://localhost:8080/",
          "height": 240
        }
      },
      "source": [
        "df_unemp.value_counts('DateOfDataset').sort_index()"
      ],
      "execution_count": 11,
      "outputs": [
        {
          "output_type": "execute_result",
          "data": {
            "text/plain": [
              "DateOfDataset\n",
              "2010-05-01    650\n",
              "2010-06-01    650\n",
              "2010-07-01    650\n",
              "2010-08-01    650\n",
              "2010-09-01    650\n",
              "             ... \n",
              "2020-05-01    650\n",
              "2020-06-01    650\n",
              "2020-07-01    650\n",
              "2020-08-01    650\n",
              "2020-09-01    650\n",
              "Length: 135, dtype: int64"
            ]
          },
          "metadata": {
            "tags": []
          },
          "execution_count": 11
        }
      ]
    },
    {
      "cell_type": "markdown",
      "metadata": {
        "id": "x6FQtNygKb43"
      },
      "source": [
        "## Data wrangling and merge\n",
        "\n",
        "- For this data, what we need to do is relatively simple\n",
        "- The steps are:\n",
        "  - Select the rows for the nearby month (Nov 2019)\n",
        "  - Keep the columns for ID vars and unemployment rate\n",
        "  - Merge with the main dataset"
      ]
    },
    {
      "cell_type": "code",
      "metadata": {
        "id": "y4HXJ2XRjh58"
      },
      "source": [
        "df_unemp_sub = df_unemp[df_unemp['DateOfDataset'] == '2019-11-01'][['ONSConstID', 'UnempConstRate']]"
      ],
      "execution_count": 14,
      "outputs": []
    },
    {
      "cell_type": "code",
      "metadata": {
        "id": "y-6s3x2jvdHE"
      },
      "source": [
        "df_merge = df_merge.merge(df_unemp_sub, left_on = 'ons_id', right_on = 'ONSConstID')"
      ],
      "execution_count": 18,
      "outputs": []
    },
    {
      "cell_type": "markdown",
      "metadata": {
        "id": "nSpLyNT9TBla"
      },
      "source": [
        "# Housing price dataset\n",
        "\n",
        "We conduct essentially the same. Extract the most recent data in housing price, and merge it with the main dataframe."
      ]
    },
    {
      "cell_type": "markdown",
      "metadata": {
        "id": "wfg08XwOTYb4"
      },
      "source": [
        "## Read the file"
      ]
    },
    {
      "cell_type": "code",
      "metadata": {
        "id": "W36zKvQgTbMB"
      },
      "source": [
        "df_housing = pd.read_excel(\"/content/GV918-UK-politics-data/Data/House-prices.xlsx\", \n",
        "                           sheet_name=\"Constituency data table\")"
      ],
      "execution_count": 19,
      "outputs": []
    },
    {
      "cell_type": "markdown",
      "metadata": {
        "id": "KpWv8FScVPbx"
      },
      "source": [
        "## Data wrangling and merge\n",
        "\n",
        "- First let's findout the data frequency. "
      ]
    },
    {
      "cell_type": "code",
      "metadata": {
        "id": "mW8rDcMbU-kr",
        "outputId": "d2eb1ed9-11c4-4dce-ae41-e8a3fee45dca",
        "colab": {
          "base_uri": "https://localhost:8080/",
          "height": 240
        }
      },
      "source": [
        "df_housing.value_counts('DateOfDataset').sort_index()"
      ],
      "execution_count": 20,
      "outputs": [
        {
          "output_type": "execute_result",
          "data": {
            "text/plain": [
              "DateOfDataset\n",
              "1995-12-31    650\n",
              "1996-03-31    650\n",
              "1996-06-30    650\n",
              "1996-09-30    650\n",
              "1996-12-31    650\n",
              "             ... \n",
              "2018-12-01    650\n",
              "2019-03-01    650\n",
              "2019-06-01    650\n",
              "2019-09-01    650\n",
              "2019-12-01    650\n",
              "Length: 97, dtype: int64"
            ]
          },
          "metadata": {
            "tags": []
          },
          "execution_count": 20
        }
      ]
    },
    {
      "cell_type": "markdown",
      "metadata": {
        "id": "nb1efv5UVYKz"
      },
      "source": [
        "- Select the rows from Sep 2019\n",
        "- We use the price change at the constituency level"
      ]
    },
    {
      "cell_type": "code",
      "metadata": {
        "id": "oYIzM31SjmmO"
      },
      "source": [
        "df_housing_sub = df_housing[['ONSConstID', 'ConstPercentChangeOneYr']][df_housing['DateOfDataset'] == '2019-09-01']\n",
        "df_merge = df_merge.merge(df_housing_sub, left_on=\"ons_id\", right_on = \"ONSConstID\")"
      ],
      "execution_count": 21,
      "outputs": []
    },
    {
      "cell_type": "code",
      "metadata": {
        "id": "sJ9dk1zkwena",
        "outputId": "47c87e12-28df-4b78-8963-73ed4a0499da",
        "colab": {
          "base_uri": "https://localhost:8080/",
          "height": 341
        }
      },
      "source": [
        "df_merge.head()"
      ],
      "execution_count": 22,
      "outputs": [
        {
          "output_type": "execute_result",
          "data": {
            "text/html": [
              "<div>\n",
              "<style scoped>\n",
              "    .dataframe tbody tr th:only-of-type {\n",
              "        vertical-align: middle;\n",
              "    }\n",
              "\n",
              "    .dataframe tbody tr th {\n",
              "        vertical-align: top;\n",
              "    }\n",
              "\n",
              "    .dataframe thead th {\n",
              "        text-align: right;\n",
              "    }\n",
              "</style>\n",
              "<table border=\"1\" class=\"dataframe\">\n",
              "  <thead>\n",
              "    <tr style=\"text-align: right;\">\n",
              "      <th></th>\n",
              "      <th>ons_id</th>\n",
              "      <th>ons_region_id</th>\n",
              "      <th>constituency_name</th>\n",
              "      <th>county_name</th>\n",
              "      <th>region_name</th>\n",
              "      <th>country_name</th>\n",
              "      <th>constituency_type</th>\n",
              "      <th>declaration_time</th>\n",
              "      <th>mp_firstname</th>\n",
              "      <th>mp_surname</th>\n",
              "      <th>mp_gender</th>\n",
              "      <th>result</th>\n",
              "      <th>first_party</th>\n",
              "      <th>second_party</th>\n",
              "      <th>electorate</th>\n",
              "      <th>valid_votes</th>\n",
              "      <th>invalid_votes</th>\n",
              "      <th>majority</th>\n",
              "      <th>con</th>\n",
              "      <th>lab</th>\n",
              "      <th>ld</th>\n",
              "      <th>brexit</th>\n",
              "      <th>green</th>\n",
              "      <th>snp</th>\n",
              "      <th>pc</th>\n",
              "      <th>dup</th>\n",
              "      <th>sf</th>\n",
              "      <th>sdlp</th>\n",
              "      <th>uup</th>\n",
              "      <th>alliance</th>\n",
              "      <th>other</th>\n",
              "      <th>other_winner</th>\n",
              "      <th>mp_fullname</th>\n",
              "      <th>majority_percent</th>\n",
              "      <th>majority_rank</th>\n",
              "      <th>turnout_const</th>\n",
              "      <th>turnout_reg</th>\n",
              "      <th>turnout_uk</th>\n",
              "      <th>turnout_2017</th>\n",
              "      <th>con_pct</th>\n",
              "      <th>lab_pct</th>\n",
              "      <th>leave_pct</th>\n",
              "      <th>ONSConstID_x</th>\n",
              "      <th>UnempConstRate</th>\n",
              "      <th>ONSConstID_y</th>\n",
              "      <th>ConstPercentChangeOneYr</th>\n",
              "    </tr>\n",
              "  </thead>\n",
              "  <tbody>\n",
              "    <tr>\n",
              "      <th>0</th>\n",
              "      <td>W07000049</td>\n",
              "      <td>W92000004</td>\n",
              "      <td>Aberavon</td>\n",
              "      <td>West Glamorgan</td>\n",
              "      <td>Wales</td>\n",
              "      <td>Wales</td>\n",
              "      <td>County</td>\n",
              "      <td>2019-12-13 02:30:00</td>\n",
              "      <td>Stephen</td>\n",
              "      <td>Kinnock</td>\n",
              "      <td>Male</td>\n",
              "      <td>Lab hold</td>\n",
              "      <td>Lab</td>\n",
              "      <td>Con</td>\n",
              "      <td>50750</td>\n",
              "      <td>31598</td>\n",
              "      <td>82</td>\n",
              "      <td>10490</td>\n",
              "      <td>6518</td>\n",
              "      <td>17008</td>\n",
              "      <td>1072</td>\n",
              "      <td>3108</td>\n",
              "      <td>450</td>\n",
              "      <td>0</td>\n",
              "      <td>2711</td>\n",
              "      <td>0</td>\n",
              "      <td>0</td>\n",
              "      <td>0</td>\n",
              "      <td>0</td>\n",
              "      <td>0</td>\n",
              "      <td>731</td>\n",
              "      <td>0</td>\n",
              "      <td>Stephen Kinnock</td>\n",
              "      <td>0.331983</td>\n",
              "      <td>209</td>\n",
              "      <td>0.622621</td>\n",
              "      <td>0.665721</td>\n",
              "      <td>0.673108</td>\n",
              "      <td>0.666800</td>\n",
              "      <td>0.206279</td>\n",
              "      <td>0.538262</td>\n",
              "      <td>0.601245</td>\n",
              "      <td>W07000049</td>\n",
              "      <td>0.036222</td>\n",
              "      <td>W07000049</td>\n",
              "      <td>0.0232326</td>\n",
              "    </tr>\n",
              "    <tr>\n",
              "      <th>1</th>\n",
              "      <td>W07000058</td>\n",
              "      <td>W92000004</td>\n",
              "      <td>Aberconwy</td>\n",
              "      <td>Clwyd</td>\n",
              "      <td>Wales</td>\n",
              "      <td>Wales</td>\n",
              "      <td>County</td>\n",
              "      <td>2019-12-13 03:09:00</td>\n",
              "      <td>Robin</td>\n",
              "      <td>Millar</td>\n",
              "      <td>Male</td>\n",
              "      <td>Con hold</td>\n",
              "      <td>Con</td>\n",
              "      <td>Lab</td>\n",
              "      <td>44699</td>\n",
              "      <td>31865</td>\n",
              "      <td>123</td>\n",
              "      <td>2034</td>\n",
              "      <td>14687</td>\n",
              "      <td>12653</td>\n",
              "      <td>1821</td>\n",
              "      <td>0</td>\n",
              "      <td>0</td>\n",
              "      <td>0</td>\n",
              "      <td>2704</td>\n",
              "      <td>0</td>\n",
              "      <td>0</td>\n",
              "      <td>0</td>\n",
              "      <td>0</td>\n",
              "      <td>0</td>\n",
              "      <td>0</td>\n",
              "      <td>0</td>\n",
              "      <td>Robin Millar</td>\n",
              "      <td>0.063832</td>\n",
              "      <td>569</td>\n",
              "      <td>0.712879</td>\n",
              "      <td>0.665721</td>\n",
              "      <td>0.673108</td>\n",
              "      <td>0.710482</td>\n",
              "      <td>0.460913</td>\n",
              "      <td>0.397081</td>\n",
              "      <td>0.521971</td>\n",
              "      <td>W07000058</td>\n",
              "      <td>0.026173</td>\n",
              "      <td>W07000058</td>\n",
              "      <td>0.0461538</td>\n",
              "    </tr>\n",
              "    <tr>\n",
              "      <th>2</th>\n",
              "      <td>S14000001</td>\n",
              "      <td>S92000003</td>\n",
              "      <td>Aberdeen North</td>\n",
              "      <td>Scotland</td>\n",
              "      <td>Scotland</td>\n",
              "      <td>Scotland</td>\n",
              "      <td>Borough</td>\n",
              "      <td>2019-12-13 03:13:00</td>\n",
              "      <td>Kirsty</td>\n",
              "      <td>Blackman</td>\n",
              "      <td>Female</td>\n",
              "      <td>SNP hold</td>\n",
              "      <td>SNP</td>\n",
              "      <td>Con</td>\n",
              "      <td>62489</td>\n",
              "      <td>37413</td>\n",
              "      <td>72</td>\n",
              "      <td>12670</td>\n",
              "      <td>7535</td>\n",
              "      <td>4939</td>\n",
              "      <td>2846</td>\n",
              "      <td>1008</td>\n",
              "      <td>880</td>\n",
              "      <td>20205</td>\n",
              "      <td>0</td>\n",
              "      <td>0</td>\n",
              "      <td>0</td>\n",
              "      <td>0</td>\n",
              "      <td>0</td>\n",
              "      <td>0</td>\n",
              "      <td>0</td>\n",
              "      <td>0</td>\n",
              "      <td>Kirsty Blackman</td>\n",
              "      <td>0.338652</td>\n",
              "      <td>202</td>\n",
              "      <td>0.598713</td>\n",
              "      <td>0.680736</td>\n",
              "      <td>0.673108</td>\n",
              "      <td>0.591614</td>\n",
              "      <td>0.201401</td>\n",
              "      <td>0.132013</td>\n",
              "      <td>0.430922</td>\n",
              "      <td>S14000001</td>\n",
              "      <td>0.033311</td>\n",
              "      <td>S14000001</td>\n",
              "      <td>-</td>\n",
              "    </tr>\n",
              "    <tr>\n",
              "      <th>3</th>\n",
              "      <td>S14000002</td>\n",
              "      <td>S92000003</td>\n",
              "      <td>Aberdeen South</td>\n",
              "      <td>Scotland</td>\n",
              "      <td>Scotland</td>\n",
              "      <td>Scotland</td>\n",
              "      <td>Borough</td>\n",
              "      <td>2019-12-13 03:34:00</td>\n",
              "      <td>Stephen</td>\n",
              "      <td>Flynn</td>\n",
              "      <td>Male</td>\n",
              "      <td>SNP gain from Con</td>\n",
              "      <td>SNP</td>\n",
              "      <td>Con</td>\n",
              "      <td>65719</td>\n",
              "      <td>45638</td>\n",
              "      <td>131</td>\n",
              "      <td>3990</td>\n",
              "      <td>16398</td>\n",
              "      <td>3834</td>\n",
              "      <td>5018</td>\n",
              "      <td>0</td>\n",
              "      <td>0</td>\n",
              "      <td>20388</td>\n",
              "      <td>0</td>\n",
              "      <td>0</td>\n",
              "      <td>0</td>\n",
              "      <td>0</td>\n",
              "      <td>0</td>\n",
              "      <td>0</td>\n",
              "      <td>0</td>\n",
              "      <td>0</td>\n",
              "      <td>Stephen Flynn</td>\n",
              "      <td>0.087427</td>\n",
              "      <td>533</td>\n",
              "      <td>0.694441</td>\n",
              "      <td>0.680736</td>\n",
              "      <td>0.673108</td>\n",
              "      <td>0.684887</td>\n",
              "      <td>0.359306</td>\n",
              "      <td>0.084009</td>\n",
              "      <td>0.321431</td>\n",
              "      <td>S14000002</td>\n",
              "      <td>0.019850</td>\n",
              "      <td>S14000002</td>\n",
              "      <td>-</td>\n",
              "    </tr>\n",
              "    <tr>\n",
              "      <th>4</th>\n",
              "      <td>S14000003</td>\n",
              "      <td>S92000003</td>\n",
              "      <td>Airdrie and Shotts</td>\n",
              "      <td>Scotland</td>\n",
              "      <td>Scotland</td>\n",
              "      <td>Scotland</td>\n",
              "      <td>County</td>\n",
              "      <td>2019-12-13 02:59:00</td>\n",
              "      <td>Neil</td>\n",
              "      <td>Gray</td>\n",
              "      <td>Male</td>\n",
              "      <td>SNP hold</td>\n",
              "      <td>SNP</td>\n",
              "      <td>Lab</td>\n",
              "      <td>64011</td>\n",
              "      <td>39772</td>\n",
              "      <td>91</td>\n",
              "      <td>5201</td>\n",
              "      <td>7011</td>\n",
              "      <td>12728</td>\n",
              "      <td>1419</td>\n",
              "      <td>0</td>\n",
              "      <td>685</td>\n",
              "      <td>17929</td>\n",
              "      <td>0</td>\n",
              "      <td>0</td>\n",
              "      <td>0</td>\n",
              "      <td>0</td>\n",
              "      <td>0</td>\n",
              "      <td>0</td>\n",
              "      <td>0</td>\n",
              "      <td>0</td>\n",
              "      <td>Neil Gray</td>\n",
              "      <td>0.130770</td>\n",
              "      <td>459</td>\n",
              "      <td>0.621331</td>\n",
              "      <td>0.680736</td>\n",
              "      <td>0.673108</td>\n",
              "      <td>0.592430</td>\n",
              "      <td>0.176280</td>\n",
              "      <td>0.320024</td>\n",
              "      <td>0.398381</td>\n",
              "      <td>S14000003</td>\n",
              "      <td>0.040079</td>\n",
              "      <td>S14000003</td>\n",
              "      <td>-</td>\n",
              "    </tr>\n",
              "  </tbody>\n",
              "</table>\n",
              "</div>"
            ],
            "text/plain": [
              "      ons_id ons_region_id  ... ONSConstID_y ConstPercentChangeOneYr\n",
              "0  W07000049     W92000004  ...    W07000049               0.0232326\n",
              "1  W07000058     W92000004  ...    W07000058               0.0461538\n",
              "2  S14000001     S92000003  ...    S14000001                       -\n",
              "3  S14000002     S92000003  ...    S14000002                       -\n",
              "4  S14000003     S92000003  ...    S14000003                       -\n",
              "\n",
              "[5 rows x 46 columns]"
            ]
          },
          "metadata": {
            "tags": []
          },
          "execution_count": 22
        }
      ]
    },
    {
      "cell_type": "markdown",
      "metadata": {
        "id": "D-UXMFmwIxR7"
      },
      "source": [
        "## Population dataset\n",
        "\n",
        "What we would like to extract from this dataset is the percentage of elderly (over 65). We need to do some data wrangling."
      ]
    },
    {
      "cell_type": "markdown",
      "metadata": {
        "id": "AQHXEryUKIC8"
      },
      "source": [
        "## Read the dataset"
      ]
    },
    {
      "cell_type": "code",
      "metadata": {
        "id": "_Fr_FcprIwt_"
      },
      "source": [
        "df_pop = pd.read_excel(\"/content/GV918-UK-politics-data/Data/population-by-age.xlsx\", \n",
        "                       sheet_name = 'Age by year data')"
      ],
      "execution_count": 23,
      "outputs": []
    },
    {
      "cell_type": "code",
      "metadata": {
        "id": "G2YOdsNlwv_e",
        "outputId": "f25d6cea-e858-4c71-b90a-9905f2c70cb8",
        "colab": {
          "base_uri": "https://localhost:8080/",
          "height": 201
        }
      },
      "source": [
        "df_pop.head()"
      ],
      "execution_count": 24,
      "outputs": [
        {
          "output_type": "execute_result",
          "data": {
            "text/html": [
              "<div>\n",
              "<style scoped>\n",
              "    .dataframe tbody tr th:only-of-type {\n",
              "        vertical-align: middle;\n",
              "    }\n",
              "\n",
              "    .dataframe tbody tr th {\n",
              "        vertical-align: top;\n",
              "    }\n",
              "\n",
              "    .dataframe thead th {\n",
              "        text-align: right;\n",
              "    }\n",
              "</style>\n",
              "<table border=\"1\" class=\"dataframe\">\n",
              "  <thead>\n",
              "    <tr style=\"text-align: right;\">\n",
              "      <th></th>\n",
              "      <th>PCON11CD</th>\n",
              "      <th>PCON11NM</th>\n",
              "      <th>RegionID</th>\n",
              "      <th>RegionNM</th>\n",
              "      <th>All Ages</th>\n",
              "      <th>Age_year</th>\n",
              "      <th>Age_pop</th>\n",
              "      <th>Age_percent</th>\n",
              "      <th>Reg_percent</th>\n",
              "      <th>UK_percent</th>\n",
              "    </tr>\n",
              "  </thead>\n",
              "  <tbody>\n",
              "    <tr>\n",
              "      <th>0</th>\n",
              "      <td>E14000538</td>\n",
              "      <td>Aylesbury</td>\n",
              "      <td>E12000008</td>\n",
              "      <td>South East</td>\n",
              "      <td>125629</td>\n",
              "      <td>0</td>\n",
              "      <td>1601</td>\n",
              "      <td>0.012744</td>\n",
              "      <td>0.010438</td>\n",
              "      <td>0.010822</td>\n",
              "    </tr>\n",
              "    <tr>\n",
              "      <th>1</th>\n",
              "      <td>E14000538</td>\n",
              "      <td>Aylesbury</td>\n",
              "      <td>E12000008</td>\n",
              "      <td>South East</td>\n",
              "      <td>125629</td>\n",
              "      <td>1</td>\n",
              "      <td>1664</td>\n",
              "      <td>0.013245</td>\n",
              "      <td>0.010968</td>\n",
              "      <td>0.011266</td>\n",
              "    </tr>\n",
              "    <tr>\n",
              "      <th>2</th>\n",
              "      <td>E14000538</td>\n",
              "      <td>Aylesbury</td>\n",
              "      <td>E12000008</td>\n",
              "      <td>South East</td>\n",
              "      <td>125629</td>\n",
              "      <td>2</td>\n",
              "      <td>1772</td>\n",
              "      <td>0.014105</td>\n",
              "      <td>0.011386</td>\n",
              "      <td>0.011637</td>\n",
              "    </tr>\n",
              "    <tr>\n",
              "      <th>3</th>\n",
              "      <td>E14000538</td>\n",
              "      <td>Aylesbury</td>\n",
              "      <td>E12000008</td>\n",
              "      <td>South East</td>\n",
              "      <td>125629</td>\n",
              "      <td>3</td>\n",
              "      <td>1775</td>\n",
              "      <td>0.014129</td>\n",
              "      <td>0.011892</td>\n",
              "      <td>0.012012</td>\n",
              "    </tr>\n",
              "    <tr>\n",
              "      <th>4</th>\n",
              "      <td>E14000538</td>\n",
              "      <td>Aylesbury</td>\n",
              "      <td>E12000008</td>\n",
              "      <td>South East</td>\n",
              "      <td>125629</td>\n",
              "      <td>4</td>\n",
              "      <td>1793</td>\n",
              "      <td>0.014272</td>\n",
              "      <td>0.012033</td>\n",
              "      <td>0.012009</td>\n",
              "    </tr>\n",
              "  </tbody>\n",
              "</table>\n",
              "</div>"
            ],
            "text/plain": [
              "    PCON11CD   PCON11NM   RegionID  ... Age_percent  Reg_percent  UK_percent\n",
              "0  E14000538  Aylesbury  E12000008  ...    0.012744     0.010438    0.010822\n",
              "1  E14000538  Aylesbury  E12000008  ...    0.013245     0.010968    0.011266\n",
              "2  E14000538  Aylesbury  E12000008  ...    0.014105     0.011386    0.011637\n",
              "3  E14000538  Aylesbury  E12000008  ...    0.014129     0.011892    0.012012\n",
              "4  E14000538  Aylesbury  E12000008  ...    0.014272     0.012033    0.012009\n",
              "\n",
              "[5 rows x 10 columns]"
            ]
          },
          "metadata": {
            "tags": []
          },
          "execution_count": 24
        }
      ]
    },
    {
      "cell_type": "markdown",
      "metadata": {
        "id": "AlF7Wwe8KLWQ"
      },
      "source": [
        "## Data wrangling"
      ]
    },
    {
      "cell_type": "markdown",
      "metadata": {
        "id": "bbHvSAXHJU4h"
      },
      "source": [
        "- This data has so many rows, but suppose that what we want to know is the population over the age of 65.\n",
        "\n",
        "- We will clean the data using the following steps\n",
        "  - Keep rows of year over 65\n",
        "  - Aggregate the percentage of the population\n"
      ]
    },
    {
      "cell_type": "code",
      "metadata": {
        "id": "SedS-4IIjowB"
      },
      "source": [
        "df_pop_sub = df_pop[df_pop['Age_year'] >= 65]"
      ],
      "execution_count": 25,
      "outputs": []
    },
    {
      "cell_type": "code",
      "metadata": {
        "id": "p1ju5HQXxtpz"
      },
      "source": [
        "df_elderly = df_pop_sub[['PCON11CD', 'Age_percent']].groupby('PCON11CD').sum().reset_index()\n"
      ],
      "execution_count": 30,
      "outputs": []
    },
    {
      "cell_type": "markdown",
      "metadata": {
        "id": "HTd29RHSKNYu"
      },
      "source": [
        "\n",
        "## Merge with the main dataset"
      ]
    },
    {
      "cell_type": "code",
      "metadata": {
        "id": "YIFTB7XEycpM"
      },
      "source": [
        "df_merge = df_merge.merge(df_elderly, left_on = 'ons_id', right_on = 'PCON11CD')"
      ],
      "execution_count": 31,
      "outputs": []
    },
    {
      "cell_type": "code",
      "metadata": {
        "id": "KGZt7u6yjqEa"
      },
      "source": [
        ""
      ],
      "execution_count": null,
      "outputs": []
    },
    {
      "cell_type": "markdown",
      "metadata": {
        "id": "y6Z8U5A7LRL1"
      },
      "source": [
        "# Check correlation\n",
        "\n",
        "- Let's check the correlation between `con_pct`, `lab_pct`, `leave_pct` and merged variables"
      ]
    },
    {
      "cell_type": "code",
      "metadata": {
        "id": "spYY-D_SjrGX",
        "outputId": "c7a3b6c4-fcd9-4481-b468-3753b0c86186",
        "colab": {
          "base_uri": "https://localhost:8080/",
          "height": 201
        }
      },
      "source": [
        "df_merge.loc[:, ['con_pct', 'lab_pct','leave_pct', 'Age_percent', 'ConstPercentChangeOneYr', 'UnempConstRate']].corr()"
      ],
      "execution_count": 32,
      "outputs": [
        {
          "output_type": "execute_result",
          "data": {
            "text/html": [
              "<div>\n",
              "<style scoped>\n",
              "    .dataframe tbody tr th:only-of-type {\n",
              "        vertical-align: middle;\n",
              "    }\n",
              "\n",
              "    .dataframe tbody tr th {\n",
              "        vertical-align: top;\n",
              "    }\n",
              "\n",
              "    .dataframe thead th {\n",
              "        text-align: right;\n",
              "    }\n",
              "</style>\n",
              "<table border=\"1\" class=\"dataframe\">\n",
              "  <thead>\n",
              "    <tr style=\"text-align: right;\">\n",
              "      <th></th>\n",
              "      <th>con_pct</th>\n",
              "      <th>lab_pct</th>\n",
              "      <th>leave_pct</th>\n",
              "      <th>Age_percent</th>\n",
              "      <th>UnempConstRate</th>\n",
              "    </tr>\n",
              "  </thead>\n",
              "  <tbody>\n",
              "    <tr>\n",
              "      <th>con_pct</th>\n",
              "      <td>1.000000</td>\n",
              "      <td>-0.411415</td>\n",
              "      <td>0.595458</td>\n",
              "      <td>0.564467</td>\n",
              "      <td>-0.414482</td>\n",
              "    </tr>\n",
              "    <tr>\n",
              "      <th>lab_pct</th>\n",
              "      <td>-0.411415</td>\n",
              "      <td>1.000000</td>\n",
              "      <td>-0.150890</td>\n",
              "      <td>-0.593286</td>\n",
              "      <td>0.568125</td>\n",
              "    </tr>\n",
              "    <tr>\n",
              "      <th>leave_pct</th>\n",
              "      <td>0.595458</td>\n",
              "      <td>-0.150890</td>\n",
              "      <td>1.000000</td>\n",
              "      <td>0.393101</td>\n",
              "      <td>0.168809</td>\n",
              "    </tr>\n",
              "    <tr>\n",
              "      <th>Age_percent</th>\n",
              "      <td>0.564467</td>\n",
              "      <td>-0.593286</td>\n",
              "      <td>0.393101</td>\n",
              "      <td>1.000000</td>\n",
              "      <td>-0.379418</td>\n",
              "    </tr>\n",
              "    <tr>\n",
              "      <th>UnempConstRate</th>\n",
              "      <td>-0.414482</td>\n",
              "      <td>0.568125</td>\n",
              "      <td>0.168809</td>\n",
              "      <td>-0.379418</td>\n",
              "      <td>1.000000</td>\n",
              "    </tr>\n",
              "  </tbody>\n",
              "</table>\n",
              "</div>"
            ],
            "text/plain": [
              "                 con_pct   lab_pct  leave_pct  Age_percent  UnempConstRate\n",
              "con_pct         1.000000 -0.411415   0.595458     0.564467       -0.414482\n",
              "lab_pct        -0.411415  1.000000  -0.150890    -0.593286        0.568125\n",
              "leave_pct       0.595458 -0.150890   1.000000     0.393101        0.168809\n",
              "Age_percent     0.564467 -0.593286   0.393101     1.000000       -0.379418\n",
              "UnempConstRate -0.414482  0.568125   0.168809    -0.379418        1.000000"
            ]
          },
          "metadata": {
            "tags": []
          },
          "execution_count": 32
        }
      ]
    },
    {
      "cell_type": "code",
      "metadata": {
        "id": "ER4ov1UeyqiS"
      },
      "source": [
        ""
      ],
      "execution_count": null,
      "outputs": []
    }
  ]
}